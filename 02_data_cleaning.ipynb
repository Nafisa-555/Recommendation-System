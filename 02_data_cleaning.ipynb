{
 "cells": [
  {
   "cell_type": "markdown",
   "id": "0f584814-98fa-4162-a9d7-7a82a3615cbb",
   "metadata": {},
   "source": [
    "## Introduction"
   ]
  },
  {
   "cell_type": "markdown",
   "id": "7385c03a-4141-45c8-a9cf-06a79ce1f7c3",
   "metadata": {},
   "source": [
    "Your manager is impressed with your progress but points out that the data is messy. Before we can analyze it effectively, we need to clean and structure the data properly."
   ]
  },
  {
   "cell_type": "markdown",
   "id": "2e55c4a8-9442-40d1-888b-b2d745784d92",
   "metadata": {},
   "source": [
    "Your task is to:\n",
    "\n",
    "1. Handle missing values\n",
    "2. Remove duplicate or inconsistent data\n",
    "3. Standardize the data format\n",
    "            "
   ]
  },
  {
   "cell_type": "markdown",
   "id": "6de64b04-0077-452a-831d-119b104f1932",
   "metadata": {},
   "source": [
    "# Task 1: Identify Issues in the Data\n"
   ]
  },
  {
   "cell_type": "markdown",
   "id": "2e1c6dad-a2e4-4c47-9097-f07fa0ad9c1d",
   "metadata": {},
   "source": [
    "Your manager provides you with an example dataset where some records are incomplete or incorrect. Here’s an example:"
   ]
  },
  {
   "cell_type": "raw",
   "id": "87c1080e-5257-4cd8-925e-bf4fa0f9d524",
   "metadata": {},
   "source": [
    "{\n",
    "    \"users\": [\n",
    "        {\"id\": 1, \"name\": \"Amit\", \"friends\": [2, 3], \"liked_pages\": [101]},\n",
    "        {\"id\": 2, \"name\": \"Priya\", \"friends\": [1, 4], \"liked_pages\": [102]},\n",
    "        {\"id\": 3, \"name\": \"\", \"friends\": [1], \"liked_pages\": [101, 103]},\n",
    "        {\"id\": 4, \"name\": \"Sara\", \"friends\": [2, 2], \"liked_pages\": [104]},\n",
    "        {\"id\": 5, \"name\": \"Amit\", \"friends\": [], \"liked_pages\": []}\n",
    "    ],\n",
    "    \"pages\": [\n",
    "        {\"id\": 101, \"name\": \"Python Developers\"},\n",
    "        {\"id\": 102, \"name\": \"Data Science Enthusiasts\"},\n",
    "        {\"id\": 103, \"name\": \"AI & ML Community\"},\n",
    "        {\"id\": 104, \"name\": \"Web Dev Hub\"},\n",
    "        {\"id\": 104, \"name\": \"Web Development\"}\n",
    "    ]\n",
    "}"
   ]
  },
  {
   "cell_type": "markdown",
   "id": "f6298d17-75ea-4924-b89a-73bc620c0eec",
   "metadata": {},
   "source": [
    " ### Problems:\n"
   ]
  },
  {
   "cell_type": "markdown",
   "id": "b726249d-46a8-48a7-a9d8-3b511aa43cd0",
   "metadata": {},
   "source": [
    "1. User ID 3 has an empty name.\n",
    "2. User ID 4 has a duplicate friend entry.\n",
    "3. User ID 5 has no connections or liked pages (inactive user).\n",
    "4. The pages list contains duplicate page IDs."
   ]
  },
  {
   "cell_type": "markdown",
   "id": "556c96b3-9eca-44bc-89bc-8b0c91cf0c4a",
   "metadata": {},
   "source": [
    "# Task 2: Clean the Data\n"
   ]
  },
  {
   "cell_type": "markdown",
   "id": "d6a4d6a0-6887-4362-b130-1ce923520100",
   "metadata": {},
   "source": [
    "We will:\n",
    "\n",
    "1. Remove users with missing names.\n",
    "2. Remove duplicate friend entries.\n",
    "3. Remove inactive users (users with no friends and no liked pages).\n",
    "4. Deduplicate pages based on IDs."
   ]
  },
  {
   "cell_type": "code",
   "execution_count": null,
   "id": "f441a015-f0da-4bc0-87ab-0c0a4820b996",
   "metadata": {},
   "outputs": [],
   "source": []
  },
  {
   "cell_type": "code",
   "execution_count": 1,
   "id": "d4f1a1be-a8a5-4dc0-89b1-cb82b825f7e2",
   "metadata": {},
   "outputs": [],
   "source": [
    "import json"
   ]
  },
  {
   "cell_type": "code",
   "execution_count": 1,
   "id": "f714a1bf-d86f-4ef3-b59e-f19a80c0b65f",
   "metadata": {},
   "outputs": [
    {
     "name": "stdout",
     "output_type": "stream",
     "text": [
      "Data has been cleaned succesfully!\n"
     ]
    }
   ],
   "source": [
    "def clean_data(data):\n",
    "    # Remove user with missing names\n",
    "    data[\"users\"] = [user for user in data[\"users\"] if user[\"name\"].strip()] \n",
    "\n",
    "    # Remove duplicate friends \n",
    "    for user in data[\"users\"]:\n",
    "        user['friends'] = list(set(user['friends']))\n",
    "\n",
    "    # Remove inactive users \n",
    "    data['users'] = [user for user in data[\"users\"] if user[\"friends\"] or user[\"liked_pages\"]]\n",
    "\n",
    "    #Remove duplicate pages \n",
    "\n",
    "    unique_pages = {}\n",
    "    for page in data ['pages']:\n",
    "        unique_pages[page['id']] = page\n",
    "    data['pages'] = list (unique_pages.values())\n",
    "    \n",
    "    return data\n",
    "\n",
    "# load the data.json\n",
    "data = json.load(open(\"data2.json\"))\n",
    "data = clean_data(data)\n",
    "json.dump(data, open(\"cleaned_data2.json\",\"w\"), indent=4 )\n",
    "print(\"Data has been cleaned succesfully!\")"
   ]
  },
  {
   "cell_type": "code",
   "execution_count": null,
   "id": "4b3582e7-c158-41ed-b1bb-6d20af5b134f",
   "metadata": {},
   "outputs": [],
   "source": []
  }
 ],
 "metadata": {
  "kernelspec": {
   "display_name": "Python [conda env:base] *",
   "language": "python",
   "name": "conda-base-py"
  },
  "language_info": {
   "codemirror_mode": {
    "name": "ipython",
    "version": 3
   },
   "file_extension": ".py",
   "mimetype": "text/x-python",
   "name": "python",
   "nbconvert_exporter": "python",
   "pygments_lexer": "ipython3",
   "version": "3.12.7"
  }
 },
 "nbformat": 4,
 "nbformat_minor": 5
}
