{
 "cells": [
  {
   "cell_type": "markdown",
   "id": "87364e04-2be6-4abd-8b22-8744bd537b29",
   "metadata": {},
   "source": [
    "# Task 1: Understand the Logic\n"
   ]
  },
  {
   "cell_type": "markdown",
   "id": "945a7992-f438-42c0-9067-439f5e63d8e8",
   "metadata": {},
   "source": [
    "### How 'People You May Know' Works:"
   ]
  },
  {
   "cell_type": "markdown",
   "id": "9ed251cb-1fb7-4668-bd1e-db1bb88929e8",
   "metadata": {},
   "source": [
    "1. If User A and User B are not friends but have mutual friends, we suggest User B to User A and vice versa.\n",
    "2. More mutual friends = higher priority recommendation."
   ]
  },
  {
   "cell_type": "markdown",
   "id": "3a1a131c-47d0-45dc-b851-3f718ea90ace",
   "metadata": {},
   "source": [
    "Example:\n",
    "\n"
   ]
  },
  {
   "cell_type": "markdown",
   "id": "a040e9f8-ba0b-48d5-ad30-a601fd326a81",
   "metadata": {},
   "source": [
    "1. Amit (ID: 1) is friends with Priya (ID: 2) and Rahul (ID: 3).\n",
    "2. Priya (ID: 2) is friends with Sara (ID: 4).\n",
    "3. Amit is not directly friends with Sara, but they share Priya as a mutual friend.\n",
    "4. Suggest Sara to Amit as \"People You May Know\"."
   ]
  },
  {
   "cell_type": "markdown",
   "id": "7ddb10fe-5279-44f4-8711-f631516239b3",
   "metadata": {},
   "source": [
    "But there are cases where we will have more than one \"People You May Know\". In those cases, greater the number of mutual friends, higher the probability that the user might know the person we are recommending.\n",
    "\n"
   ]
  },
  {
   "cell_type": "markdown",
   "id": "6209d410-2777-4eb1-882d-a3bb4fcb0db5",
   "metadata": {},
   "source": [
    "#  Task 2: Implement the Algorithm"
   ]
  },
  {
   "cell_type": "markdown",
   "id": "fd1763f7-29d9-43e3-9ce8-aa5e6a1206f3",
   "metadata": {},
   "source": [
    "We'll create a function that:\n",
    "\n",
    "1. Finds all friends of a given user.\n",
    "2. Identifies mutual friends between non-friends.\n",
    "3. Ranks recommendations by the number of mutual friends."
   ]
  },
  {
   "cell_type": "code",
   "execution_count": null,
   "id": "76c64c7a-7cc6-48e0-a9f1-9bf7108bca8b",
   "metadata": {},
   "outputs": [],
   "source": []
  },
  {
   "cell_type": "code",
   "execution_count": 9,
   "id": "7170847d-bb03-4f48-a2a5-2f25d1688fb3",
   "metadata": {},
   "outputs": [
    {
     "name": "stdout",
     "output_type": "stream",
     "text": [
      "People You May Know for User 1: [7, 8, 9, 10, 11, 12]\n"
     ]
    }
   ],
   "source": [
    "import json\n",
    "\n",
    "def load_data(filename):\n",
    "    with open(filename, \"r\") as file:\n",
    "        return json.load(file)\n",
    "\n",
    "def find_people_you_may_know(user_id, data):\n",
    "    user_friends = {}\n",
    "    for user in data[\"users\"]:\n",
    "        user_friends[user[\"id\"]] = set(user[\"friends\"])\n",
    "    \n",
    "    if user_id not in user_friends:\n",
    "        return []\n",
    "    \n",
    "    direct_friends = user_friends[user_id]\n",
    "    suggestions = {}\n",
    "    \n",
    "    for friend in direct_friends:\n",
    "        # For all friends of friend\n",
    "        for mutual in user_friends[friend]:\n",
    "            # If mutual id is not the same user and not already a direct friend of user\n",
    "            if mutual != user_id and mutual not in direct_friends:\n",
    "                # Count mutual friends\n",
    "                suggestions[mutual] = suggestions.get(mutual, 0) + 1\n",
    "    \n",
    "    sorted_suggestions = sorted(suggestions.items(), key=lambda x: x[1], reverse=True)\n",
    "    return [user_id for user_id, _ in sorted_suggestions]\n",
    "\n",
    "# Load data\n",
    "data = load_data(\"massive_data.json\")\n",
    "user_id = 1 # Example: Finding suggestions for Amit\n",
    "recommendations = find_people_you_may_know(user_id, data)\n",
    "print(f\"People You May Know for User {user_id}: {recommendations}\")"
   ]
  },
  {
   "cell_type": "code",
   "execution_count": null,
   "id": "bc8c94c0-390d-49f6-87ce-8c0f5199e5c7",
   "metadata": {},
   "outputs": [],
   "source": []
  }
 ],
 "metadata": {
  "kernelspec": {
   "display_name": "Python [conda env:base] *",
   "language": "python",
   "name": "conda-base-py"
  },
  "language_info": {
   "codemirror_mode": {
    "name": "ipython",
    "version": 3
   },
   "file_extension": ".py",
   "mimetype": "text/x-python",
   "name": "python",
   "nbconvert_exporter": "python",
   "pygments_lexer": "ipython3",
   "version": "3.12.7"
  }
 },
 "nbformat": 4,
 "nbformat_minor": 5
}
