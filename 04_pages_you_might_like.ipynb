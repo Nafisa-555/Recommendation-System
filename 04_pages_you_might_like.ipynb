{
 "cells": [
  {
   "cell_type": "markdown",
   "id": "bf09d455-7e10-4eae-a875-d8617e98971e",
   "metadata": {},
   "source": [
    "# Task 1: Understanding the Recommendation Logic"
   ]
  },
  {
   "cell_type": "markdown",
   "id": "639f1263-230b-4a69-8c8a-d69d997afa26",
   "metadata": {},
   "source": [
    " ### How 'Pages You Might Like' Works:\n"
   ]
  },
  {
   "cell_type": "markdown",
   "id": "dcd353dd-2c93-454b-ae7d-639f72500510",
   "metadata": {},
   "source": [
    "Users engage with pages (like, comment, share, etc.).\n",
    "1. If two users have interacted with similar pages, they are likely to have common interests.\n",
    "2. For the sake of this implementation, we consider liking a page as an interaction\n",
    "3. Pages followed by similar users should be recommended.\n",
    "   \n",
    "Example:\n",
    "\n",
    "1. Amit (ID: 1) likes Python Hub (Page ID: 101) and AI World (Page ID: 102).\n",
    "2. Priya (ID: 2) likes AI World (Page ID: 102) and Data Science Daily (Page ID: 103).\n",
    "3. Since Amit and Priya both like AI World (102), we suggest Data Science Daily (103) to Amit and Python Hub (101) to Priya."
   ]
  },
  {
   "cell_type": "markdown",
   "id": "0315ce68-9348-4f02-a17b-4b5c5da25e7b",
   "metadata": {},
   "source": [
    "# Task 2: Implement the Algorithm\n"
   ]
  },
  {
   "cell_type": "markdown",
   "id": "23911d87-9e18-452b-8a26-08fea0e2ab6b",
   "metadata": {},
   "source": [
    "We'll create a function that:\n",
    "\n",
    "1. Maps users to pages they have interacted with.\n",
    "2. Identifies pages liked by users with similar interests.\n",
    "3. Ranks recommendations based on common interactions."
   ]
  },
  {
   "cell_type": "code",
   "execution_count": 5,
   "id": "5ead52cf-124d-4730-8dd7-eae46adce785",
   "metadata": {},
   "outputs": [
    {
     "name": "stdout",
     "output_type": "stream",
     "text": [
      "Pages You Might Like for User 1: [(103, 2), (105, 1), (107, 1), (104, 0), (106, 0), (108, 0), (109, 0), (110, 0), (111, 0), (112, 0), (113, 0), (114, 0), (115, 0), (116, 0), (117, 0), (118, 0), (119, 0), (120, 0), (121, 0), (122, 0), (123, 0), (124, 0), (125, 0), (126, 0), (127, 0)]\n"
     ]
    }
   ],
   "source": [
    "import json\n",
    "\n",
    "# Function to load JSON data from a file\n",
    "def load_data(filename):\n",
    "    with open(filename, \"r\") as file:\n",
    "        return json.load(file)\n",
    "\n",
    "# Function to find pages a user might like based on common interests\n",
    "def find_pages_you_might_like(user_id, data):\n",
    "    # Dictionary to store user interactions with pages\n",
    "    user_pages = {}\n",
    "    for user in data[\"users\"]:\n",
    "        user_pages[user[\"id\"]] = set(user[\"liked_pages\"])\n",
    "    \n",
    "    # If the user is not found, return an empty list\n",
    "    if user_id not in user_pages:\n",
    "        return []\n",
    "    \n",
    "    user_liked_pages = user_pages[user_id]\n",
    "    page_suggestions = {}\n",
    "    \n",
    "    for other_user, pages in user_pages.items():\n",
    "        if other_user != user_id:\n",
    "            shared_pages = user_liked_pages.intersection(pages)\n",
    "            for page in pages:\n",
    "                if page not in user_liked_pages:\n",
    "                    page_suggestions[page] = page_suggestions.get(page, 0) + len(shared_pages)\n",
    "    \n",
    "    # Sort recommended pages based on the number of shared interactions\n",
    "    sorted_pages = sorted(page_suggestions.items(), key=lambda x: x[1], reverse=True)\n",
    "    return [(page_id, score) for page_id, score in sorted_pages]\n",
    "\n",
    "# Load data\n",
    "data = load_data(\"massive_data.json\")\n",
    "user_id = 1  # Example: Finding recommendations for Amit\n",
    "page_recommendations = find_pages_you_might_like(user_id, data)\n",
    "print(f\"Pages You Might Like for User {user_id}: {page_recommendations}\")"
   ]
  },
  {
   "cell_type": "code",
   "execution_count": null,
   "id": "922a7467-6853-4ee7-9cdf-8944a66a449a",
   "metadata": {},
   "outputs": [],
   "source": []
  }
 ],
 "metadata": {
  "kernelspec": {
   "display_name": "Python [conda env:base] *",
   "language": "python",
   "name": "conda-base-py"
  },
  "language_info": {
   "codemirror_mode": {
    "name": "ipython",
    "version": 3
   },
   "file_extension": ".py",
   "mimetype": "text/x-python",
   "name": "python",
   "nbconvert_exporter": "python",
   "pygments_lexer": "ipython3",
   "version": "3.12.7"
  }
 },
 "nbformat": 4,
 "nbformat_minor": 5
}
