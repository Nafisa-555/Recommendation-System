{
 "cells": [
  {
   "cell_type": "markdown",
   "id": "e6dadada-2184-411a-a0c2-dc1a07fc43ad",
   "metadata": {},
   "source": [
    "# Welcome to CodeBook – Your Data Science Internship Begins!"
   ]
  },
  {
   "cell_type": "markdown",
   "id": "3cabec2e-ca1f-480b-a40b-551980a02348",
   "metadata": {},
   "source": [
    "## Introduction"
   ]
  },
  {
   "cell_type": "markdown",
   "id": "da84dd18-6eed-4f81-b919-bbfd80018185",
   "metadata": {},
   "source": [
    "Congratulations! You have just been hired as a Data Scientist Intern at CodeBook – The Social Media for Coders. This Delhi-based company is offering you a ₹10 LPA job if you successfully complete this 1-month internship. But before you get there, you must prove your skills using only Python—no pandas, NumPy, or fancy libraries!"
   ]
  },
  {
   "cell_type": "markdown",
   "id": "0cad9de7-b5cf-42f8-8acf-db39cc5861a5",
   "metadata": {},
   "source": [
    "Your manager Puneet Kumar has assigned you your first task: analyzing a data dump of CodeBook users using pure Python. Your job is to load and explore the data to understand its structure."
   ]
  },
  {
   "cell_type": "markdown",
   "id": "e20632d9-1158-47cc-9517-f68aadb95e9a",
   "metadata": {},
   "source": [
    "# Task 1: Load the User Data"
   ]
  },
  {
   "cell_type": "markdown",
   "id": "fab1649e-4ade-42ba-8cb7-902d87d4418d",
   "metadata": {},
   "source": [
    "Your manager has given you a dataset containing information about CodeBook users, their connections (friends), and the pages they have liked.\n",
    "\n",
    "This is how the data will look (in JSON format):\n",
    "\n"
   ]
  },
  {
   "cell_type": "raw",
   "id": "490a3693-8118-4bb0-9ab5-568de3960f72",
   "metadata": {},
   "source": [
    "{\n",
    "    \"users\": [\n",
    "        {\"id\": 1, \"name\": \"Amit\", \"friends\": [2, 3], \"liked_pages\": [101]},\n",
    "        {\"id\": 2, \"name\": \"Priya\", \"friends\": [1, 4], \"liked_pages\": [102]},\n",
    "        {\"id\": 3, \"name\": \"Rahul\", \"friends\": [1], \"liked_pages\": [101, 103]},\n",
    "        {\"id\": 4, \"name\": \"Sara\", \"friends\": [2], \"liked_pages\": [104]}\n",
    "    ],\n",
    "    \"pages\": [\n",
    "            {\"id\": 101, \"name\": \"Python Developers\"},\n",
    "        {\"id\": 102, \"name\": \"Data Science Enthusiasts\"},\n",
    "        {\"id\": 103, \"name\": \"AI & ML Community\"},\n",
    "        {\"id\": 104, \"name\": \"Web Dev Hub\"}\n",
    "    ]\n",
    "}"
   ]
  },
  {
   "cell_type": "markdown",
   "id": "9a2e1a57-7063-43e6-98fd-d87f51c3d4b1",
   "metadata": {},
   "source": [
    "We have to read this data and understand its structure. The data contains three main components:\n",
    "\n",
    "1. Users: Each user has an ID, name, a list of friends (by their IDs), and a list of liked pages (by their IDs).\n",
    "2. Pages: Each page has an ID and a name.\n",
    "3. Connections: Users can have multiple friends and can like multiple pages.\n"
   ]
  },
  {
   "cell_type": "markdown",
   "id": "c8a28087-426c-43c0-b46e-d693cddb2b73",
   "metadata": {},
   "source": [
    "# Task 2: Read and Display the Data using Python"
   ]
  },
  {
   "cell_type": "markdown",
   "id": "2dc3192a-572b-4bdf-91d3-2c25d8d0c9de",
   "metadata": {},
   "source": [
    "our goal is to load this data and print it in a structured way. Use Python's built-in modules to accomplish this."
   ]
  },
  {
   "cell_type": "markdown",
   "id": "1a27910a-7fd7-4857-934f-3f13ec0d9184",
   "metadata": {},
   "source": [
    "## Steps:\n"
   ]
  },
  {
   "cell_type": "markdown",
   "id": "55137c93-3438-427d-921e-1caf5ca5c04a",
   "metadata": {},
   "source": [
    "1. Save the JSON data in a file (codebook_data.json).\n",
    "2. Read the JSON file using Python.\n",
    "3. Print user details and their connections.\n",
    "4. Print available pages.\n"
   ]
  },
  {
   "cell_type": "code",
   "execution_count": null,
   "id": "f30e297e-9955-41c1-8270-b08ad0c3c4b7",
   "metadata": {},
   "outputs": [],
   "source": []
  },
  {
   "cell_type": "code",
   "execution_count": 4,
   "id": "d13714f4-ea2c-4403-851c-ce1361868cf2",
   "metadata": {},
   "outputs": [],
   "source": [
    "import json"
   ]
  },
  {
   "cell_type": "code",
   "execution_count": 6,
   "id": "850602ed-17d2-4bf0-8a97-f118e6530e0a",
   "metadata": {},
   "outputs": [],
   "source": [
    "# Lest write the function to load the data\n",
    "\n",
    "def load_data(filename):\n",
    "    with open (filename,\"r\") as f:\n",
    "        data = json.load(f)\n",
    "    return data"
   ]
  },
  {
   "cell_type": "code",
   "execution_count": 7,
   "id": "f409c3f6-5957-4728-9050-143d1b628dc3",
   "metadata": {},
   "outputs": [],
   "source": [
    "data = load_data(\"data.json\")"
   ]
  },
  {
   "cell_type": "code",
   "execution_count": 8,
   "id": "c0b2768d-e40c-49b5-b075-7d898190f67d",
   "metadata": {},
   "outputs": [
    {
     "data": {
      "text/plain": [
       "{'users': [{'id': 1, 'name': 'Amit', 'friends': [2, 3], 'liked_pages': [101]},\n",
       "  {'id': 2, 'name': 'Priya', 'friends': [1, 4], 'liked_pages': [102]},\n",
       "  {'id': 3, 'name': 'Rahul', 'friends': [1], 'liked_pages': [101, 103]},\n",
       "  {'id': 4, 'name': 'Sara', 'friends': [2], 'liked_pages': [104]}],\n",
       " 'pages': [{'id': 101, 'name': 'Python Developers'},\n",
       "  {'id': 102, 'name': 'Data Science Enthusiasts'},\n",
       "  {'id': 103, 'name': 'AI & ML Community'},\n",
       "  {'id': 104, 'name': 'Web Dev Hub'}]}"
      ]
     },
     "execution_count": 8,
     "metadata": {},
     "output_type": "execute_result"
    }
   ],
   "source": [
    "data"
   ]
  },
  {
   "cell_type": "code",
   "execution_count": 9,
   "id": "bb10b4e9-6f51-4930-9f9f-d5ebe092bd45",
   "metadata": {},
   "outputs": [
    {
     "data": {
      "text/plain": [
       "dict"
      ]
     },
     "execution_count": 9,
     "metadata": {},
     "output_type": "execute_result"
    }
   ],
   "source": [
    "type(data)"
   ]
  },
  {
   "cell_type": "code",
   "execution_count": 23,
   "id": "172fb6a0-8420-48ad-9ca1-4e6f95ffa70d",
   "metadata": {},
   "outputs": [
    {
     "name": "stdout",
     "output_type": "stream",
     "text": [
      "Users and their Connections: \n",
      "ID:1 - Amit is friend with: [2, 3] and liked pages are [101] \n",
      "ID:2 - Priya is friend with: [1, 4] and liked pages are [102] \n",
      "ID:3 - Rahul is friend with: [1] and liked pages are [101, 103] \n",
      "ID:4 - Sara is friend with: [2] and liked pages are [104] \n",
      "\n",
      "Pages information: \n",
      "101: Python Developers  \n",
      "102: Data Science Enthusiasts  \n",
      "103: AI & ML Community  \n",
      "104: Web Dev Hub  \n"
     ]
    }
   ],
   "source": [
    "# Write a function to display user and their connections\n",
    "\n",
    "def display_users(data):\n",
    "    print(\"Users and their Connections: \")\n",
    "    for user in data['users']:\n",
    "        print(f\"ID:{user['id']} - {user['name']} is friend with: {user['friends']} and liked pages are {user['liked_pages']} \")\n",
    "    print(\"\\nPages information: \")\n",
    "    for page in data['pages']:\n",
    "        print(f\"{page['id']}: {page['name']}  \")\n",
    "\n",
    "display_users(data)\n",
    "    "
   ]
  },
  {
   "cell_type": "code",
   "execution_count": null,
   "id": "484fa91e-22df-4b4c-b870-9353256414f2",
   "metadata": {},
   "outputs": [],
   "source": []
  }
 ],
 "metadata": {
  "kernelspec": {
   "display_name": "Python [conda env:base] *",
   "language": "python",
   "name": "conda-base-py"
  },
  "language_info": {
   "codemirror_mode": {
    "name": "ipython",
    "version": 3
   },
   "file_extension": ".py",
   "mimetype": "text/x-python",
   "name": "python",
   "nbconvert_exporter": "python",
   "pygments_lexer": "ipython3",
   "version": "3.12.7"
  }
 },
 "nbformat": 4,
 "nbformat_minor": 5
}
